{
 "cells": [
  {
   "cell_type": "code",
   "execution_count": 79,
   "metadata": {},
   "outputs": [],
   "source": [
    "# 7111056119-02-basic RGB color transfer\n",
    "import os\n",
    "from pathlib import Path\n",
    "import cv2\n",
    "import numpy as np\n",
    "import pandas as pd\n",
    "import matplotlib.pyplot as plt"
   ]
  },
  {
   "cell_type": "code",
   "execution_count": 80,
   "metadata": {},
   "outputs": [],
   "source": [
    "Path(\"result\").mkdir(exist_ok=True)\n",
    "Path(\"coltra\").mkdir(exist_ok=True) # Output file"
   ]
  },
  {
   "cell_type": "code",
   "execution_count": 81,
   "metadata": {},
   "outputs": [],
   "source": [
    "def readSourceImage(filepath:str):\n",
    "    iim = cv2.imread(filename=filepath)\n",
    "    # OpenCV 預設 BGR\n",
    "    iim = cv2.cvtColor(iim, cv2.COLOR_BGR2RGB)\n",
    "    return iim\n",
    "    \n",
    "# https://stackoverflow.com/questions/42406338/why-cv2-imwrite-changes-the-color-of-pics\n",
    "def saveImage(filepath: str, im: cv2.Mat):\n",
    "    im = cv2.cvtColor(im, cv2.COLOR_RGB2BGR)\n",
    "    cv2.imwrite(filepath, im)\n",
    "    ()"
   ]
  },
  {
   "cell_type": "code",
   "execution_count": 82,
   "metadata": {},
   "outputs": [],
   "source": [
    "def colorChannelToStatistics(colorChannel: np.ndarray):\n",
    "    uu, cc = np.unique(colorChannel, return_counts=True)\n",
    "    ua = np.zeros(256, dtype=int)\n",
    "    ua[uu] = cc\n",
    "    aver = np.average(colorChannel)\n",
    "    aver = np.around(aver, 2)\n",
    "    std = np.std(colorChannel)\n",
    "    std = np.around(std, 2)\n",
    "    return (ua, aver, std)\n",
    "\n",
    "def meanAndSTDToCSV(filename: str, mean, std):\n",
    "    df = pd.DataFrame([mean, std], [\"Mean\", \"STD\"])\n",
    "    df.to_csv(\"result/\" + filename + \"-mean-std.csv\")\n",
    "    ()\n",
    "\n",
    "def hisToCSVAndPNG(filename:str, his):\n",
    "    xx = np.array(his)\n",
    "    df = pd.DataFrame(xx.transpose())\n",
    "    df.to_csv(\"result/\" + filename + \"-his.csv\")\n",
    "\n",
    "    fig, ax = plt.subplots(3,1)\n",
    "    ax[0].bar(range(256), his[0], color=\"red\")\n",
    "    ax[1].bar(range(256), his[1], color=\"green\")\n",
    "    ax[2].bar(range(256), his[2], color=\"blue\")\n",
    "    plt.savefig(\"result/\" + filename + \"_hist.png\")\n",
    "    ()\n",
    "\n",
    "def doStatistics(filename: str, im: cv2.Mat):\n",
    "    redHis, redAver, redStd = colorChannelToStatistics(im[:,:,0])\n",
    "    greenHis, greenAver, greenStd = colorChannelToStatistics(im[:,:,1])\n",
    "    blueHis, blueAver, blueStd = colorChannelToStatistics(im[:,:,2])\n",
    "\n",
    "    meanAndSTDToCSV(filename, [redAver, greenAver, blueAver], [redStd, greenStd, blueStd])\n",
    "    hisToCSVAndPNG(filename, [redHis, greenHis, blueHis])\n",
    "    ()"
   ]
  },
  {
   "cell_type": "code",
   "execution_count": 83,
   "metadata": {},
   "outputs": [],
   "source": [
    "def doColorTransfer(sourceChannel: np.ndarray, targetChannel: np.ndarray):\n",
    "    sHis, sMean, sStd = colorChannelToStatistics(sourceChannel)\n",
    "    tHis, tMean, tStd = colorChannelToStatistics(targetChannel)\n",
    "\n",
    "    transfer = (tStd / sStd) * (sourceChannel - sMean) + tMean\n",
    "    transfer = np.clip(transfer, 0, 255)\n",
    "    return (sHis, sMean, sStd, tHis, tMean, tStd, transfer)\n",
    "    ()\n",
    "\n",
    "# target 圖片化為函數\n",
    "# source 圖片與函數作用後，輸出至 colortransfer directory\n",
    "# 其餘 his, csv 輸出至 result directory\n",
    "# 轉換公式為 pptx 第 15 頁\n",
    "def doStaff(sourcefile: str, targetfile: str, colortransferfile: str):\n",
    "    ss = readSourceImage(\"source/\" + sourcefile + \".png\")\n",
    "    tt = readSourceImage(\"ttarget/\" + targetfile + \".png\")\n",
    "\n",
    "    sourceHis = []\n",
    "    sourceMean = []\n",
    "    sourceStd = []\n",
    "\n",
    "    targetHis = []\n",
    "    targetMean = []\n",
    "    targetStd = []\n",
    "\n",
    "    transfers = np.ndarray(ss.shape, dtype=ss.dtype)\n",
    "    for i in range(3):\n",
    "        (sHis, sMean, sStd, tHis, tMean, tStd, transfer) \\\n",
    "        = doColorTransfer(ss[:,:,i], tt[:,:,i])\n",
    "\n",
    "        sourceHis.append(sHis)\n",
    "        sourceMean.append(sMean)\n",
    "        sourceStd.append(sStd)\n",
    "\n",
    "        targetHis.append(tHis)\n",
    "        targetMean.append(tMean)\n",
    "        targetStd.append(tStd)\n",
    "\n",
    "        transfers[:,:,i] = transfer\n",
    "        ()\n",
    "\n",
    "    # hisToCSVAndPNG(sourcefile, sourceHis)\n",
    "    # meanAndSTDToCSV(sourcefile, sourceMean, sourceStd)\n",
    "\n",
    "    # hisToCSVAndPNG(targetfile, targetHis)\n",
    "    # meanAndSTDToCSV(targetfile, targetMean, targetStd)\n",
    "    # print(transfers.shape)\n",
    "    # doStatistics(colortransferfile, transfers)\n",
    "    saveImage(\"coltra/\" + colortransferfile + \".png\", transfers)\n",
    "    ()\n"
   ]
  },
  {
   "cell_type": "code",
   "execution_count": null,
   "metadata": {},
   "outputs": [],
   "source": [
    "sourceImages = [\n",
    "    \"01_kodim06\",\n",
    "]\n",
    "\n",
    "targetImages = [\n",
    "    \"01_kodim01\",\n",
    "]\n",
    "\n",
    "colorTransferImages = [\n",
    "    \"01_kodim06_kodim01\",\n",
    "]\n",
    "\n",
    "for i in range(len(sourceImages)):\n",
    "    doStaff(sourceImages[i], targetImages[i], colorTransferImages[i])"
   ]
  }
 ],
 "metadata": {
  "kernelspec": {
   "display_name": "Python 3.10.4 ('otensor')",
   "language": "python",
   "name": "python3"
  },
  "language_info": {
   "codemirror_mode": {
    "name": "ipython",
    "version": 3
   },
   "file_extension": ".py",
   "mimetype": "text/x-python",
   "name": "python",
   "nbconvert_exporter": "python",
   "pygments_lexer": "ipython3",
   "version": "3.8.17"
  },
  "orig_nbformat": 4,
  "vscode": {
   "interpreter": {
    "hash": "b08dbdc80d0a7baab1271632d7039f3dc171d78101c3bd2f505f1240ac56e9bf"
   }
  }
 },
 "nbformat": 4,
 "nbformat_minor": 2
}
